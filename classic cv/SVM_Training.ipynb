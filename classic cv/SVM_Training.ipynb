{
 "cells": [
  {
   "cell_type": "code",
   "execution_count": 1,
   "metadata": {
    "collapsed": true
   },
   "outputs": [],
   "source": [
    "%matplotlib inline\n",
    "%config InlineBackend.figure_format = 'retina'\n",
    "import matplotlib.image as mpimg\n",
    "import matplotlib.pyplot as plt\n",
    "import numpy as np\n",
    "from sklearn.preprocessing import StandardScaler\n",
    "\n",
    "import CarDetectorFunc as cd"
   ]
  },
  {
   "cell_type": "code",
   "execution_count": 2,
   "metadata": {
    "collapsed": false
   },
   "outputs": [
    {
     "name": "stdout",
     "output_type": "stream",
     "text": [
      "color space   : YCrCb\n",
      "--- spatial-bining-color ---\n",
      "use svd       : False\n",
      "svd K         : 75\n",
      "spatial size  : (32, 32)\n",
      "--- color-histogram ----\n",
      "hist bins     : 64\n",
      "hist range    : (0, 256)\n",
      "--- HOG ---\n",
      "orient        : 7\n",
      "pix per cell  : 8\n",
      "cell per block: 2\n",
      "hog channel   : ALL\n",
      "--- Car Detection ---\n",
      "ROI ystart    : 400\n",
      "ROI ystop     : 700\n",
      "window scale  : [1, 1.5, 2, 2.5]\n"
     ]
    }
   ],
   "source": [
    "config = cd.Config()\n",
    "config.use_svd = False\n",
    "config.show()"
   ]
  },
  {
   "cell_type": "markdown",
   "metadata": {},
   "source": [
    "## Load Data"
   ]
  },
  {
   "cell_type": "code",
   "execution_count": 3,
   "metadata": {
    "collapsed": true
   },
   "outputs": [],
   "source": [
    "# images are divided up into vehicles and non-vehicles\n",
    "import fnmatch\n",
    "import os\n",
    "\n",
    "images = []\n",
    "# for root, dirnames, filenames in os.walk('../dataset-big'):\n",
    "#     for filename in fnmatch.filter(filenames, '*.png'):\n",
    "for root, dirnames, filenames in os.walk('../dataset-small'):\n",
    "    for filename in fnmatch.filter(filenames, '*.jpeg'):\n",
    "        images.append(os.path.join(root, filename))\n",
    "# images\n",
    "\n",
    "cars = []\n",
    "notcars = []\n",
    "\n",
    "for image in images:\n",
    "    if 'non-vehicles' in image:\n",
    "        notcars.append(image)\n",
    "    else:\n",
    "        cars.append(image)\n",
    "# cars"
   ]
  },
  {
   "cell_type": "code",
   "execution_count": 4,
   "metadata": {
    "collapsed": false
   },
   "outputs": [
    {
     "name": "stdout",
     "output_type": "stream",
     "text": [
      "cars: 1196, non-cars: 1125, total: 2321\n",
      "image shape: (64, 64, 3), data type: uint8\n"
     ]
    }
   ],
   "source": [
    "cd.print_data_info(car_list=cars, notcar_list=notcars)"
   ]
  },
  {
   "cell_type": "markdown",
   "metadata": {},
   "source": [
    "## Get Features"
   ]
  },
  {
   "cell_type": "code",
   "execution_count": 5,
   "metadata": {
    "collapsed": false
   },
   "outputs": [],
   "source": [
    "if config.use_svd:\n",
    "    svd_subspace = cd.get_main_feature_vectors(cars, config)\n",
    "else:\n",
    "    svd_subspace = None"
   ]
  },
  {
   "cell_type": "code",
   "execution_count": 6,
   "metadata": {
    "collapsed": false
   },
   "outputs": [
    {
     "name": "stdout",
     "output_type": "stream",
     "text": [
      "spatial_features.shape: (3072,)\n",
      "hist_features.shape: (192,)\n",
      "hog_features.shape: (4116,)\n",
      "spatial_features.shape: (3072,)\n",
      "hist_features.shape: (192,)\n",
      "hog_features.shape: (4116,)\n",
      "CPU times: user 9.02 s, sys: 118 ms, total: 9.13 s\n",
      "Wall time: 9.18 s\n"
     ]
    }
   ],
   "source": [
    "%%time\n",
    "car_features = cd.extract_features(cars, config, svd_subspace)\n",
    "notcar_features = cd.extract_features(notcars, config, svd_subspace)"
   ]
  },
  {
   "cell_type": "markdown",
   "metadata": {},
   "source": [
    "## Classifier"
   ]
  },
  {
   "cell_type": "code",
   "execution_count": 7,
   "metadata": {
    "collapsed": false
   },
   "outputs": [
    {
     "name": "stdout",
     "output_type": "stream",
     "text": [
      "X.shape: (2321, 7380)\n",
      "y.shape: (2321,)\n"
     ]
    }
   ],
   "source": [
    "# Create an array stack of feature vectors\n",
    "X = np.vstack((car_features, notcar_features)).astype(np.float64)\n",
    "print('X.shape: {}'.format(X.shape))\n",
    "# Define the labels vector\n",
    "y = np.hstack((np.ones(len(car_features)), np.zeros(len(notcar_features))))\n",
    "print('y.shape: {}'.format(y.shape))\n",
    "# Fit a per-column scaler\n",
    "X_scaler = StandardScaler().fit(X)\n",
    "# Apply the scaler to X\n",
    "scaled_X = X_scaler.transform(X)"
   ]
  },
  {
   "cell_type": "code",
   "execution_count": null,
   "metadata": {
    "collapsed": true
   },
   "outputs": [],
   "source": []
  }
 ],
 "metadata": {
  "kernelspec": {
   "display_name": "Python 2",
   "language": "python",
   "name": "python2"
  },
  "language_info": {
   "codemirror_mode": {
    "name": "ipython",
    "version": 2
   },
   "file_extension": ".py",
   "mimetype": "text/x-python",
   "name": "python",
   "nbconvert_exporter": "python",
   "pygments_lexer": "ipython2",
   "version": "2.7.13"
  }
 },
 "nbformat": 4,
 "nbformat_minor": 2
}
